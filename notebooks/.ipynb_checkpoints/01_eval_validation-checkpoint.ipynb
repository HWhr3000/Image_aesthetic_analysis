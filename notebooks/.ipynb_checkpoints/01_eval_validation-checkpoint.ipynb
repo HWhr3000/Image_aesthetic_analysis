{
  "nbformat": 4,
  "nbformat_minor": 5,
  "metadata": {
    "kernelspec": {
      "name": "python3",
      "display_name": "Python 3",
      "language": "python"
    },
    "language_info": {
      "name": "python",
      "pygments_lexer": "ipython3"
    }
  },
  "cells": [
    {
      "cell_type": "markdown",
      "metadata": {},
      "source": [
        "# Evaluation Validation\n\n",
        "This notebook loads the postprocessed results (run via `run_all.py`),\n",
        "merges them with your manual sheet, derives pass/fail flags from thresholds,\n",
        "and writes a merged Excel for review."
      ]
    },
    {
      "cell_type": "code",
      "metadata": {},
      "outputs": [],
      "execution_count": null,
      "source": [
        "import os\n",
        "import pandas as pd\n",
        "import yaml\n",
        "\n",
        "# Configure paths (edit if needed)\n",
        "RESULTS_CSV = 'out/results.csv'             # written by run_all.py (postprocessed)\n",
        "MANUAL_XLSX = 'Image_evaluation_manual.xlsx'\n",
        "THRESHOLDS_YML = 'aesthetics_eval_pkg/thresholds.yml'\n",
        "OUT_XLSX = 'out/eval_validation_merged.xlsx'\n",
        "\n",
        "if not os.path.exists(RESULTS_CSV):\n",
        "    raise SystemExit(f'Not found: {RESULTS_CSV}. Please run run_all.py first.')\n",
        "\n",
        "metrics = pd.read_csv(RESULTS_CSV)\n",
        "manual = pd.read_excel(MANUAL_XLSX)\n",
        "with open(THRESHOLDS_YML, 'r') as f:\n",
        "    T = yaml.safe_load(f)\n",
        "\n",
        "def base(s):\n",
        "    try: return os.path.basename(str(s)).strip()\n",
        "    except: return str(s)\n",
        "\n",
        "# Normalize filename in metrics\n",
        "if 'img_file' in metrics.columns:\n",
        "    metrics['image_name'] = metrics['img_file'].map(base)\n",
        "elif 'image_file' in metrics.columns:\n",
        "    metrics['image_name'] = metrics['image_file'].map(base)\n",
        "else:\n",
        "    cands = [c for c in metrics.columns if metrics[c].astype(str).str.contains(r'\\.(jpg|jpeg|png|webp)$', case=False, na=False).any()]\n",
        "    if not cands:\n",
        "        raise SystemExit('Could not find filename column in results.csv')\n",
        "    metrics['image_name'] = metrics[cands[0]].map(base)\n",
        "\n",
        "# Normalize filename in manual\n",
        "manual_cols = [c for c in manual.columns if 'image' in c.lower()]\n",
        "if not manual_cols:\n",
        "    raise SystemExit('Manual sheet must contain an image filename column')\n",
        "manual = manual.rename(columns={manual_cols[0]: 'image_name'})\n",
        "manual['image_name'] = manual['image_name'].map(base)\n",
        "\n",
        "df = metrics.merge(manual, on='image_name', how='inner')\n",
        "len(df)"
      ]
    },
    {
      "cell_type": "code",
      "metadata": {},
      "outputs": [],
      "execution_count": null,
      "source": [
        "# Derive flags from thresholds\n",
        "Lmin, Lmax = T['lab']['L_min'], T['lab']['L_max']\n",
        "bmin, bmax = T['lab']['b_min'], T['lab']['b_max']\n",
        "\n",
        "def pick(df, *names):\n",
        "    for n in names:\n",
        "        if n in df.columns: return n\n",
        "    return None\n",
        "\n",
        "cL    = pick(df, 'mean_L', 'background_lab_L')\n",
        "cb    = pick(df, 'mean_b', 'background_lab_b', 'warmth_lab_b')\n",
        "crms  = pick(df, 'rms_contrast')\n",
        "cedge = pick(df, 'edge_density')\n",
        "cent  = pick(df, 'color_entropy', 'color_entropy_bits')\n",
        "cfs   = pick(df, 'fourier_slope')\n",
        "csym  = pick(df, 'mirror_symmetry', 'symmetry_vertical')\n",
        "cbal  = pick(df, 'balance')\n",
        "\n",
        "if cL:   df['bright_ok'] = df[cL].between(Lmin, Lmax)\n",
        "if cb:   df['warmth_ok'] = df[cb].between(bmin, bmax)\n",
        "if crms: df['contrast_ok'] = df[crms].between(T['rms_contrast']['min'], T['rms_contrast']['max'])\n",
        "if cedge and 'sharpness' in T: df['edge_ok'] = df[cedge] >= T['sharpness']['edge_density_min']\n",
        "if cent: df['color_entropy_ok'] = df[cent].between(T['color_entropy']['min'], T['color_entropy']['max'])\n",
        "if cfs:  df['fourier_ok'] = df[cfs].between(T['fourier_slope']['min'], T['fourier_slope']['max'])\n",
        "if csym: df['symmetry_ok'] = (df[csym] <= T['symmetry_max']*100.0) | (df[csym] <= T['symmetry_max'])\n",
        "if cbal: df['balance_ok']  = (df[cbal] <= T['balance_max']*100.0)  | (df[cbal] <= T['balance_max'])\n",
        "\n",
        "# TODO: rename your manual columns below to standardized names (example placeholders):\n",
        "# df = df.rename(columns={\n",
        "#   'Manual Brightness OK': 'manual_bright_ok',\n",
        "#   'Manual Warmth OK':     'manual_warmth_ok',\n",
        "#   'Manual Contrast OK':   'manual_contrast_ok',\n",
        "#   'Manual Edge OK':       'manual_edge_ok',\n",
        "# })\n",
        "list(df.columns)[:20]"
      ]
    },
    {
      "cell_type": "code",
      "metadata": {},
      "outputs": [],
      "execution_count": null,
      "source": [
        "# Simple confusion tables (works without sklearn)\n",
        "def report(true, pred):\n",
        "    t = pd.crosstab(true, pred, rownames=['manual'], colnames=['pred'], dropna=False)\n",
        "    acc = (true == pred).mean()\n",
        "    return t, acc\n",
        "\n",
        "pairs = [\n",
        "  ('manual_bright_ok','bright_ok'),\n",
        "  ('manual_warmth_ok','warmth_ok'),\n",
        "  ('manual_contrast_ok','contrast_ok'),\n",
        "  ('manual_edge_ok','edge_ok'),\n",
        "]\n",
        "for mt, mp in pairs:\n",
        "    if mt in df.columns and mp in df.columns:\n",
        "        t, acc = report(df[mt].astype(bool), df[mp].astype(bool))\n",
        "        print(t)\n",
        "        print(f'acc: {acc:.3f}')\n"
      ]
    },
    {
      "cell_type": "code",
      "metadata": {},
      "outputs": [],
      "execution_count": null,
      "source": [
        "# Save merged sheet for review\n",
        "os.makedirs('out', exist_ok=True)\n",
        "df.to_excel(OUT_XLSX, index=False)\n",
        "print(f'WROTE: {OUT_XLSX}')\n"
      ]
    }
  ]
}
